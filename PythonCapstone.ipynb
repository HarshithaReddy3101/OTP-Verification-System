{
  "nbformat": 4,
  "nbformat_minor": 0,
  "metadata": {
    "colab": {
      "provenance": []
    },
    "kernelspec": {
      "name": "python3",
      "display_name": "Python 3"
    },
    "language_info": {
      "name": "python"
    },
    "widgets": {
      "application/vnd.jupyter.widget-state+json": {
        "e6b1b8c726ef47ac8984a5fc35cf66b9": {
          "model_module": "@jupyter-widgets/controls",
          "model_name": "TextModel",
          "model_module_version": "1.5.0",
          "state": {
            "_dom_classes": [],
            "_model_module": "@jupyter-widgets/controls",
            "_model_module_version": "1.5.0",
            "_model_name": "TextModel",
            "_view_count": null,
            "_view_module": "@jupyter-widgets/controls",
            "_view_module_version": "1.5.0",
            "_view_name": "TextView",
            "continuous_update": true,
            "description": "Email:",
            "description_tooltip": null,
            "disabled": false,
            "layout": "IPY_MODEL_637f33369b214710b2b4d5b7441eb813",
            "placeholder": "Enter your email address",
            "style": "IPY_MODEL_27b1900e65a84f6585f0803c44ff1a28",
            "value": ""
          }
        },
        "637f33369b214710b2b4d5b7441eb813": {
          "model_module": "@jupyter-widgets/base",
          "model_name": "LayoutModel",
          "model_module_version": "1.2.0",
          "state": {
            "_model_module": "@jupyter-widgets/base",
            "_model_module_version": "1.2.0",
            "_model_name": "LayoutModel",
            "_view_count": null,
            "_view_module": "@jupyter-widgets/base",
            "_view_module_version": "1.2.0",
            "_view_name": "LayoutView",
            "align_content": null,
            "align_items": null,
            "align_self": null,
            "border": null,
            "bottom": null,
            "display": null,
            "flex": null,
            "flex_flow": null,
            "grid_area": null,
            "grid_auto_columns": null,
            "grid_auto_flow": null,
            "grid_auto_rows": null,
            "grid_column": null,
            "grid_gap": null,
            "grid_row": null,
            "grid_template_areas": null,
            "grid_template_columns": null,
            "grid_template_rows": null,
            "height": null,
            "justify_content": null,
            "justify_items": null,
            "left": null,
            "margin": null,
            "max_height": null,
            "max_width": null,
            "min_height": null,
            "min_width": null,
            "object_fit": null,
            "object_position": null,
            "order": null,
            "overflow": null,
            "overflow_x": null,
            "overflow_y": null,
            "padding": null,
            "right": null,
            "top": null,
            "visibility": null,
            "width": null
          }
        },
        "27b1900e65a84f6585f0803c44ff1a28": {
          "model_module": "@jupyter-widgets/controls",
          "model_name": "DescriptionStyleModel",
          "model_module_version": "1.5.0",
          "state": {
            "_model_module": "@jupyter-widgets/controls",
            "_model_module_version": "1.5.0",
            "_model_name": "DescriptionStyleModel",
            "_view_count": null,
            "_view_module": "@jupyter-widgets/base",
            "_view_module_version": "1.2.0",
            "_view_name": "StyleView",
            "description_width": ""
          }
        },
        "6f50953befc6416b866cd6e63e600914": {
          "model_module": "@jupyter-widgets/controls",
          "model_name": "ButtonModel",
          "model_module_version": "1.5.0",
          "state": {
            "_dom_classes": [],
            "_model_module": "@jupyter-widgets/controls",
            "_model_module_version": "1.5.0",
            "_model_name": "ButtonModel",
            "_view_count": null,
            "_view_module": "@jupyter-widgets/controls",
            "_view_module_version": "1.5.0",
            "_view_name": "ButtonView",
            "button_style": "",
            "description": "Send OTP",
            "disabled": false,
            "icon": "",
            "layout": "IPY_MODEL_5f3ae9d2a8f74123af7ed797e3ba1e64",
            "style": "IPY_MODEL_d9a5f5fe62a64e498666cad12a5e51b4",
            "tooltip": ""
          }
        },
        "5f3ae9d2a8f74123af7ed797e3ba1e64": {
          "model_module": "@jupyter-widgets/base",
          "model_name": "LayoutModel",
          "model_module_version": "1.2.0",
          "state": {
            "_model_module": "@jupyter-widgets/base",
            "_model_module_version": "1.2.0",
            "_model_name": "LayoutModel",
            "_view_count": null,
            "_view_module": "@jupyter-widgets/base",
            "_view_module_version": "1.2.0",
            "_view_name": "LayoutView",
            "align_content": null,
            "align_items": null,
            "align_self": null,
            "border": null,
            "bottom": null,
            "display": null,
            "flex": null,
            "flex_flow": null,
            "grid_area": null,
            "grid_auto_columns": null,
            "grid_auto_flow": null,
            "grid_auto_rows": null,
            "grid_column": null,
            "grid_gap": null,
            "grid_row": null,
            "grid_template_areas": null,
            "grid_template_columns": null,
            "grid_template_rows": null,
            "height": null,
            "justify_content": null,
            "justify_items": null,
            "left": null,
            "margin": null,
            "max_height": null,
            "max_width": null,
            "min_height": null,
            "min_width": null,
            "object_fit": null,
            "object_position": null,
            "order": null,
            "overflow": null,
            "overflow_x": null,
            "overflow_y": null,
            "padding": null,
            "right": null,
            "top": null,
            "visibility": null,
            "width": null
          }
        },
        "d9a5f5fe62a64e498666cad12a5e51b4": {
          "model_module": "@jupyter-widgets/controls",
          "model_name": "ButtonStyleModel",
          "model_module_version": "1.5.0",
          "state": {
            "_model_module": "@jupyter-widgets/controls",
            "_model_module_version": "1.5.0",
            "_model_name": "ButtonStyleModel",
            "_view_count": null,
            "_view_module": "@jupyter-widgets/base",
            "_view_module_version": "1.2.0",
            "_view_name": "StyleView",
            "button_color": null,
            "font_weight": ""
          }
        },
        "9cddb09554644349a59ac414d25a0afa": {
          "model_module": "@jupyter-widgets/controls",
          "model_name": "IntTextModel",
          "model_module_version": "1.5.0",
          "state": {
            "_dom_classes": [],
            "_model_module": "@jupyter-widgets/controls",
            "_model_module_version": "1.5.0",
            "_model_name": "IntTextModel",
            "_view_count": null,
            "_view_module": "@jupyter-widgets/controls",
            "_view_module_version": "1.5.0",
            "_view_name": "IntTextView",
            "continuous_update": false,
            "description": "OTP:",
            "description_tooltip": null,
            "disabled": false,
            "layout": "IPY_MODEL_c1d73b0d866f478095b15ed29802eed9",
            "step": 1,
            "style": "IPY_MODEL_81047695f7c54e8a9d76677708ba92fe",
            "value": 0
          }
        },
        "c1d73b0d866f478095b15ed29802eed9": {
          "model_module": "@jupyter-widgets/base",
          "model_name": "LayoutModel",
          "model_module_version": "1.2.0",
          "state": {
            "_model_module": "@jupyter-widgets/base",
            "_model_module_version": "1.2.0",
            "_model_name": "LayoutModel",
            "_view_count": null,
            "_view_module": "@jupyter-widgets/base",
            "_view_module_version": "1.2.0",
            "_view_name": "LayoutView",
            "align_content": null,
            "align_items": null,
            "align_self": null,
            "border": null,
            "bottom": null,
            "display": null,
            "flex": null,
            "flex_flow": null,
            "grid_area": null,
            "grid_auto_columns": null,
            "grid_auto_flow": null,
            "grid_auto_rows": null,
            "grid_column": null,
            "grid_gap": null,
            "grid_row": null,
            "grid_template_areas": null,
            "grid_template_columns": null,
            "grid_template_rows": null,
            "height": null,
            "justify_content": null,
            "justify_items": null,
            "left": null,
            "margin": null,
            "max_height": null,
            "max_width": null,
            "min_height": null,
            "min_width": null,
            "object_fit": null,
            "object_position": null,
            "order": null,
            "overflow": null,
            "overflow_x": null,
            "overflow_y": null,
            "padding": null,
            "right": null,
            "top": null,
            "visibility": null,
            "width": null
          }
        },
        "81047695f7c54e8a9d76677708ba92fe": {
          "model_module": "@jupyter-widgets/controls",
          "model_name": "DescriptionStyleModel",
          "model_module_version": "1.5.0",
          "state": {
            "_model_module": "@jupyter-widgets/controls",
            "_model_module_version": "1.5.0",
            "_model_name": "DescriptionStyleModel",
            "_view_count": null,
            "_view_module": "@jupyter-widgets/base",
            "_view_module_version": "1.2.0",
            "_view_name": "StyleView",
            "description_width": ""
          }
        },
        "be03efff2b124df99861e8ffc2235940": {
          "model_module": "@jupyter-widgets/controls",
          "model_name": "ButtonModel",
          "model_module_version": "1.5.0",
          "state": {
            "_dom_classes": [],
            "_model_module": "@jupyter-widgets/controls",
            "_model_module_version": "1.5.0",
            "_model_name": "ButtonModel",
            "_view_count": null,
            "_view_module": "@jupyter-widgets/controls",
            "_view_module_version": "1.5.0",
            "_view_name": "ButtonView",
            "button_style": "",
            "description": "Verify OTP",
            "disabled": false,
            "icon": "",
            "layout": "IPY_MODEL_9310bd447b1345168cd3bc893a1a0c7a",
            "style": "IPY_MODEL_d52aa9eaa33147dda901e3661693a2ec",
            "tooltip": ""
          }
        },
        "9310bd447b1345168cd3bc893a1a0c7a": {
          "model_module": "@jupyter-widgets/base",
          "model_name": "LayoutModel",
          "model_module_version": "1.2.0",
          "state": {
            "_model_module": "@jupyter-widgets/base",
            "_model_module_version": "1.2.0",
            "_model_name": "LayoutModel",
            "_view_count": null,
            "_view_module": "@jupyter-widgets/base",
            "_view_module_version": "1.2.0",
            "_view_name": "LayoutView",
            "align_content": null,
            "align_items": null,
            "align_self": null,
            "border": null,
            "bottom": null,
            "display": null,
            "flex": null,
            "flex_flow": null,
            "grid_area": null,
            "grid_auto_columns": null,
            "grid_auto_flow": null,
            "grid_auto_rows": null,
            "grid_column": null,
            "grid_gap": null,
            "grid_row": null,
            "grid_template_areas": null,
            "grid_template_columns": null,
            "grid_template_rows": null,
            "height": null,
            "justify_content": null,
            "justify_items": null,
            "left": null,
            "margin": null,
            "max_height": null,
            "max_width": null,
            "min_height": null,
            "min_width": null,
            "object_fit": null,
            "object_position": null,
            "order": null,
            "overflow": null,
            "overflow_x": null,
            "overflow_y": null,
            "padding": null,
            "right": null,
            "top": null,
            "visibility": null,
            "width": null
          }
        },
        "d52aa9eaa33147dda901e3661693a2ec": {
          "model_module": "@jupyter-widgets/controls",
          "model_name": "ButtonStyleModel",
          "model_module_version": "1.5.0",
          "state": {
            "_model_module": "@jupyter-widgets/controls",
            "_model_module_version": "1.5.0",
            "_model_name": "ButtonStyleModel",
            "_view_count": null,
            "_view_module": "@jupyter-widgets/base",
            "_view_module_version": "1.2.0",
            "_view_name": "StyleView",
            "button_color": null,
            "font_weight": ""
          }
        },
        "16d0ba8f34fb48369f0804e6f4ae7e34": {
          "model_module": "@jupyter-widgets/output",
          "model_name": "OutputModel",
          "model_module_version": "1.0.0",
          "state": {
            "_dom_classes": [],
            "_model_module": "@jupyter-widgets/output",
            "_model_module_version": "1.0.0",
            "_model_name": "OutputModel",
            "_view_count": null,
            "_view_module": "@jupyter-widgets/output",
            "_view_module_version": "1.0.0",
            "_view_name": "OutputView",
            "layout": "IPY_MODEL_a8f9ca0371204396b7a1d07545f501c8",
            "msg_id": "",
            "outputs": []
          }
        },
        "a8f9ca0371204396b7a1d07545f501c8": {
          "model_module": "@jupyter-widgets/base",
          "model_name": "LayoutModel",
          "model_module_version": "1.2.0",
          "state": {
            "_model_module": "@jupyter-widgets/base",
            "_model_module_version": "1.2.0",
            "_model_name": "LayoutModel",
            "_view_count": null,
            "_view_module": "@jupyter-widgets/base",
            "_view_module_version": "1.2.0",
            "_view_name": "LayoutView",
            "align_content": null,
            "align_items": null,
            "align_self": null,
            "border": null,
            "bottom": null,
            "display": null,
            "flex": null,
            "flex_flow": null,
            "grid_area": null,
            "grid_auto_columns": null,
            "grid_auto_flow": null,
            "grid_auto_rows": null,
            "grid_column": null,
            "grid_gap": null,
            "grid_row": null,
            "grid_template_areas": null,
            "grid_template_columns": null,
            "grid_template_rows": null,
            "height": null,
            "justify_content": null,
            "justify_items": null,
            "left": null,
            "margin": null,
            "max_height": null,
            "max_width": null,
            "min_height": null,
            "min_width": null,
            "object_fit": null,
            "object_position": null,
            "order": null,
            "overflow": null,
            "overflow_x": null,
            "overflow_y": null,
            "padding": null,
            "right": null,
            "top": null,
            "visibility": null,
            "width": null
          }
        }
      }
    }
  },
  "cells": [
    {
      "cell_type": "markdown",
      "source": [
        "###OTP VERIFICATION SYSTEM"
      ],
      "metadata": {
        "id": "P8fvmmKb4nX9"
      }
    },
    {
      "cell_type": "code",
      "source": [
        "\n",
        "# Import required libraries\n",
        "import random\n",
        "import smtplib\n",
        "import ipywidgets as widgets\n",
        "from IPython.display import display, clear_output\n",
        "from email.mime.text import MIMEText\n",
        "\n",
        "# Function to generate a 6-digit OTP\n",
        "def generate_otp():\n",
        "    return random.randint(100000, 999999)\n",
        "\n",
        "# Function to send OTP to the user's email using SMTP\n",
        "def send_otp_to_email(email, otp):\n",
        "    # SMTP server configuration (using Gmail as an example)\n",
        "    smtp_server = \"smtp.gmail.com\"\n",
        "    smtp_port = 587\n",
        "    sender_email = \"harshithardyy@gmail.com\"\n",
        "    sender_password = \"wlrh sjcx orau qmsn\"\n",
        "\n",
        "    # Create the email content\n",
        "    subject = \"Your OTP for Verification\"\n",
        "    body = f\"Your OTP is: {otp}. Please use this to verify your account.\"\n",
        "    message = MIMEText(body)\n",
        "    message[\"Subject\"] = subject\n",
        "    message[\"From\"] = sender_email\n",
        "    message[\"To\"] = email\n",
        "\n",
        "    try:\n",
        "        # Connect to the SMTP server\n",
        "        with smtplib.SMTP(smtp_server, smtp_port) as server:\n",
        "            server.starttls()  # Secure the connection\n",
        "            server.login(sender_email, sender_password)  # Log in to the server\n",
        "            server.sendmail(sender_email, email, message.as_string())  # Send the email\n",
        "        print(f\"OTP sent to {email}.\")\n",
        "        return True\n",
        "    except Exception as e:\n",
        "        print(f\"Failed to send OTP: {e}\")\n",
        "        return False\n",
        "\n",
        "# Function to verify the OTP\n",
        "def verify_otp(generated_otp, user_otp):\n",
        "    return generated_otp == user_otp\n",
        "\n",
        "# GUI Implementation using ipywidgets\n",
        "def otp_verification_gui():\n",
        "    # Widgets for user input\n",
        "    email_input = widgets.Text(placeholder=\"Enter your email address\", description=\"Email:\")\n",
        "    otp_input = widgets.IntText(placeholder=\"Enter 6-digit OTP\", description=\"OTP:\")\n",
        "    send_otp_button = widgets.Button(description=\"Send OTP\")\n",
        "    verify_otp_button = widgets.Button(description=\"Verify OTP\")\n",
        "    output = widgets.Output()\n",
        "\n",
        "    # Variables to store OTP and email\n",
        "    generated_otp = None\n",
        "    user_email = None\n",
        "\n",
        "    # Function to handle sending OTP\n",
        "    def on_send_otp_clicked(b):\n",
        "        nonlocal generated_otp, user_email\n",
        "        user_email = email_input.value\n",
        "        if user_email:\n",
        "            generated_otp = generate_otp()\n",
        "            if send_otp_to_email(user_email, generated_otp):\n",
        "                with output:\n",
        "                    clear_output()\n",
        "                    print(f\"OTP sent.Please check your email!\")\n",
        "            else:\n",
        "                with output:\n",
        "                    clear_output()\n",
        "                    print(\"Failed to send OTP. Please try again.\")\n",
        "        else:\n",
        "            with output:\n",
        "                clear_output()\n",
        "                print(\"Please enter a valid email address.\")\n",
        "\n",
        "    # Function to handle OTP verification\n",
        "    def on_verify_otp_clicked(b):\n",
        "        nonlocal generated_otp\n",
        "        user_otp = otp_input.value\n",
        "        if user_otp:\n",
        "            if verify_otp(generated_otp, user_otp):\n",
        "                with output:\n",
        "                    clear_output()\n",
        "                    print(\"OTP verified successfully! Access granted.\")\n",
        "            else:\n",
        "                with output:\n",
        "                    clear_output()\n",
        "                    print(\"Incorrect OTP. Access denied.\")\n",
        "        else:\n",
        "            with output:\n",
        "                clear_output()\n",
        "                print(\"Please enter the OTP.\")\n",
        "\n",
        "    # Attach event handlers to buttons\n",
        "    send_otp_button.on_click(on_send_otp_clicked)\n",
        "    verify_otp_button.on_click(on_verify_otp_clicked)\n",
        "\n",
        "    # Display the GUI\n",
        "    display(email_input, send_otp_button, otp_input, verify_otp_button, output)\n",
        "\n",
        "# Run the OTP verification GUI\n",
        "otp_verification_gui()"
      ],
      "metadata": {
        "colab": {
          "base_uri": "https://localhost:8080/",
          "height": 145,
          "referenced_widgets": [
            "e6b1b8c726ef47ac8984a5fc35cf66b9",
            "637f33369b214710b2b4d5b7441eb813",
            "27b1900e65a84f6585f0803c44ff1a28",
            "6f50953befc6416b866cd6e63e600914",
            "5f3ae9d2a8f74123af7ed797e3ba1e64",
            "d9a5f5fe62a64e498666cad12a5e51b4",
            "9cddb09554644349a59ac414d25a0afa",
            "c1d73b0d866f478095b15ed29802eed9",
            "81047695f7c54e8a9d76677708ba92fe",
            "be03efff2b124df99861e8ffc2235940",
            "9310bd447b1345168cd3bc893a1a0c7a",
            "d52aa9eaa33147dda901e3661693a2ec",
            "16d0ba8f34fb48369f0804e6f4ae7e34",
            "a8f9ca0371204396b7a1d07545f501c8"
          ]
        },
        "id": "lkir41J-Hgxn",
        "outputId": "95b4d11e-c1e5-4c64-82a6-5c44a8729beb"
      },
      "execution_count": null,
      "outputs": [
        {
          "output_type": "display_data",
          "data": {
            "text/plain": [
              "Text(value='', description='Email:', placeholder='Enter your email address')"
            ],
            "application/vnd.jupyter.widget-view+json": {
              "version_major": 2,
              "version_minor": 0,
              "model_id": "e6b1b8c726ef47ac8984a5fc35cf66b9"
            }
          },
          "metadata": {}
        },
        {
          "output_type": "display_data",
          "data": {
            "text/plain": [
              "Button(description='Send OTP', style=ButtonStyle())"
            ],
            "application/vnd.jupyter.widget-view+json": {
              "version_major": 2,
              "version_minor": 0,
              "model_id": "6f50953befc6416b866cd6e63e600914"
            }
          },
          "metadata": {}
        },
        {
          "output_type": "display_data",
          "data": {
            "text/plain": [
              "IntText(value=0, description='OTP:')"
            ],
            "application/vnd.jupyter.widget-view+json": {
              "version_major": 2,
              "version_minor": 0,
              "model_id": "9cddb09554644349a59ac414d25a0afa"
            }
          },
          "metadata": {}
        },
        {
          "output_type": "display_data",
          "data": {
            "text/plain": [
              "Button(description='Verify OTP', style=ButtonStyle())"
            ],
            "application/vnd.jupyter.widget-view+json": {
              "version_major": 2,
              "version_minor": 0,
              "model_id": "be03efff2b124df99861e8ffc2235940"
            }
          },
          "metadata": {}
        },
        {
          "output_type": "display_data",
          "data": {
            "text/plain": [
              "Output()"
            ],
            "application/vnd.jupyter.widget-view+json": {
              "version_major": 2,
              "version_minor": 0,
              "model_id": "16d0ba8f34fb48369f0804e6f4ae7e34"
            }
          },
          "metadata": {}
        }
      ]
    },
    {
      "cell_type": "markdown",
      "source": [
        "###Documentation\n"
      ],
      "metadata": {
        "id": "io8b3iQ73Lng"
      }
    },
    {
      "cell_type": "markdown",
      "source": [
        "1.The program is an OTP (One-Time Password) Verification System implemented in Python.\n",
        "2.It generates a 6-digit OTP, sends it to the user's email address using SMTP, and verifies the OTP entered by the user.\n",
        "3.The system includes a GUI built using ipywidgets for user interaction in Google Colab.\n",
        "4.generate_otp()\n",
        "  Purpose: Generates a random 6-digit OTP\n",
        "5.send_otp_to_email(email, otp)\n",
        "  Purpose: Sends the OTP to the user's email address using SMTP.\n",
        "6.verify_otp(generated_otp, user_otp)\n",
        "  Purpose: Compares the generated OTP with the user-entered OTP.\n",
        "7.otp_verification_gui()\n",
        "  Purpose: Implements the GUI for the OTP verification system using ipywidge"
      ],
      "metadata": {
        "id": "ryY2Iccp3SE_"
      }
    },
    {
      "cell_type": "markdown",
      "source": [
        "##Workflow"
      ],
      "metadata": {
        "id": "bqqDfOSB4Ei1"
      }
    },
    {
      "cell_type": "markdown",
      "source": [
        "1.Enter Email:\n",
        "  The user enters their email address in the Email Input field.\n",
        "\n",
        "2.Send OTP:\n",
        "  The user clicks the Send OTP button.\n",
        "  The system generates an OTP and sends it to the provided email address.\n",
        "\n",
        "3.Enter OTP:\n",
        "  The user checks their email for the OTP and enters it in the OTP Input field.\n",
        "\n",
        "4.Verify OTP:\n",
        "  The user clicks the Verify OTP button.\n",
        "  The system compares the entered OTP with the generated OTP.\n",
        "  If the OTPs match, access is granted. Otherwise, access is denied."
      ],
      "metadata": {
        "id": "7scsNlVz4I3V"
      }
    }
  ]
}